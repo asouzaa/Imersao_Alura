{
  "nbformat": 4,
  "nbformat_minor": 0,
  "metadata": {
    "colab": {
      "provenance": [],
      "authorship_tag": "ABX9TyPn4nkDkrVGAJSNbJ8EVyM6",
      "include_colab_link": true
    },
    "kernelspec": {
      "name": "python3",
      "display_name": "Python 3"
    },
    "language_info": {
      "name": "python"
    }
  },
  "cells": [
    {
      "cell_type": "markdown",
      "metadata": {
        "id": "view-in-github",
        "colab_type": "text"
      },
      "source": [
        "<a href=\"https://colab.research.google.com/github/asouzaa/Imersao_Alura/blob/main/Imersao.ipynb\" target=\"_parent\"><img src=\"https://colab.research.google.com/assets/colab-badge.svg\" alt=\"Open In Colab\"/></a>"
      ]
    },
    {
      "cell_type": "code",
      "execution_count": 1,
      "metadata": {
        "colab": {
          "base_uri": "https://localhost:8080/"
        },
        "id": "Y2dG23vvkkL9",
        "outputId": "70f67db9-5b2d-4964-e252-6b2f70ff2295"
      },
      "outputs": [
        {
          "output_type": "stream",
          "name": "stdout",
          "text": [
            "\n",
            "Usage:   \n",
            "  pip3 install [options] <requirement specifier> [package-index-options] ...\n",
            "  pip3 install [options] -r <requirements file> [package-index-options] ...\n",
            "  pip3 install [options] [-e] <vcs project url> ...\n",
            "  pip3 install [options] [-e] <local project path> ...\n",
            "  pip3 install [options] <archive url/path> ...\n",
            "\n",
            "no such option: -u\n"
          ]
        }
      ],
      "source": [
        "!pip install -q -u google-gerativeai"
      ]
    },
    {
      "cell_type": "code",
      "source": [
        "#import a chave\n",
        "import google.generativeai as genai\n",
        "from google.colab import userdata\n",
        "api_key = userdata.get(\"SECRET_KEY\")\n",
        "\n",
        "genai.configure(api_key=api_key)"
      ],
      "metadata": {
        "id": "cQMWGbJazLTC"
      },
      "execution_count": 35,
      "outputs": []
    },
    {
      "cell_type": "code",
      "source": [
        "model = genai.GenerativeModel('gemini-pro')\n"
      ],
      "metadata": {
        "id": "Lrh55eVf0PQp"
      },
      "execution_count": 5,
      "outputs": []
    },
    {
      "cell_type": "code",
      "source": [
        "response = model.generate_content(\"Vamos aprender o conteido sobre IA. Me de sugestões\")\n",
        "print(response.text)"
      ],
      "metadata": {
        "colab": {
          "base_uri": "https://localhost:8080/",
          "height": 850
        },
        "id": "thqUYeNv0fu5",
        "outputId": "a88ed3ba-0e01-41a9-c81b-9f7080c2615b"
      },
      "execution_count": 23,
      "outputs": [
        {
          "output_type": "stream",
          "name": "stdout",
          "text": [
            "**Conceitos Fundamentais**\n",
            "\n",
            "* Definição de Inteligência Artificial (IA)\n",
            "* Tipos de IA: IA Fraca, IA Forte, IA Geral\n",
            "* Aprendizado de Máquina (ML): Aprendizado Supervisionado, Não Supervisionado, por Reforço\n",
            "* Aprendizado Profundo (DL): Redes Neurais, Convolucionais, Recorrentes\n",
            "* Processamento de Linguagem Natural (PNL)\n",
            "\n",
            "**Aplicações da IA**\n",
            "\n",
            "* Automação de tarefas\n",
            "* Análise de dados e previsão\n",
            "* Reconhecimento de padrões e imagens\n",
            "* Sistemas de recomendação\n",
            "* Assistentes virtuais e chatbots\n",
            "* Diagnóstico médico e tratamento\n",
            "* Veículos autônomos\n",
            "* Segurança cibernética\n",
            "\n",
            "**Implicações Éticas e Sociais da IA**\n",
            "\n",
            "* Viés e discriminação\n",
            "* Perda de empregos\n",
            "* Privacidade e vigilância\n",
            "* Responsabilidade e regulamentação\n",
            "\n",
            "**Tendências e Avanços em IA**\n",
            "\n",
            "* IA Quântica\n",
            "* Aprendizado Federado\n",
            "* IA Explicável e Responsável\n",
            "* IA em Nuvem e Computação de Borda\n",
            "* IA para o Bem Social\n",
            "\n",
            "**Recursos para Aprendizagem**\n",
            "\n",
            "* Cursos online: Coursera, edX, Udacity\n",
            "* Livros e artigos: \"Inteligência Artificial: Uma Abordagem Moderna\" por Stuart Russell e Peter Norvig, \"Aprendizado de Máquina\" por Ethem Alpaydin\n",
            "* Conferências e eventos: NeurIPS, ICML, CVPR\n",
            "* Comunidades online: Reddit (r/MachineLearning), Stack Overflow (ia)\n",
            "\n",
            "**Dicas para Aprender IA**\n",
            "\n",
            "* Comece com os conceitos básicos\n",
            "* Pratique com conjuntos de dados e ferramentas\n",
            "* Participe de projetos e competições\n",
            "* Conecte-se com especialistas e comunidades\n",
            "* Mantenha-se atualizado com as últimas tendências e avanços\n"
          ]
        }
      ]
    },
    {
      "cell_type": "code",
      "source": [
        "for m in genai.list_models():\n",
        "  if 'generateContent' in m.supported_generation_methods:\n",
        "    print(m.name)"
      ],
      "metadata": {
        "colab": {
          "base_uri": "https://localhost:8080/",
          "height": 139
        },
        "id": "i1XynJ8Q01lU",
        "outputId": "2716afc0-5789-43c6-d822-53c71206ce13"
      },
      "execution_count": 9,
      "outputs": [
        {
          "output_type": "stream",
          "name": "stdout",
          "text": [
            "models/gemini-1.0-pro\n",
            "models/gemini-1.0-pro-001\n",
            "models/gemini-1.0-pro-latest\n",
            "models/gemini-1.0-pro-vision-latest\n",
            "models/gemini-1.5-pro-latest\n",
            "models/gemini-pro\n",
            "models/gemini-pro-vision\n"
          ]
        }
      ]
    },
    {
      "cell_type": "code",
      "source": [
        "generation_config = {\n",
        "    \"candidate_count\": 1,\n",
        "    \"temperature\":0.5,\n",
        "\n",
        "}"
      ],
      "metadata": {
        "id": "4RDo0T422Wbx"
      },
      "execution_count": 19,
      "outputs": []
    },
    {
      "cell_type": "code",
      "source": [
        "safety_settings = {\n",
        "    \"HARASSMENT\": \"BLOCK_NONE\",\n",
        "    \"HATE\":\"BLOCK_NONE\",\n",
        "    \"SEXUAL\":\"BLOCK_NONE\",\n",
        "    \"DANGEROUS\":\"BLOCK_NONE\",\n",
        "}"
      ],
      "metadata": {
        "id": "HNZCJ1FP3cso"
      },
      "execution_count": 20,
      "outputs": []
    },
    {
      "cell_type": "code",
      "source": [
        "model = genai.GenerativeModel(model_name=\"gemini-1.0-pro\",\n",
        "                              generation_config=generation_config,\n",
        "                              safety_settings=safety_settings)"
      ],
      "metadata": {
        "id": "6wnOI6yH3_OH"
      },
      "execution_count": 21,
      "outputs": []
    },
    {
      "cell_type": "code",
      "source": [
        "response = model.generate_content(\"Vamos aprender o conteido sobre IA. Me de sugestões\")\n",
        "print(response.text)"
      ],
      "metadata": {
        "colab": {
          "base_uri": "https://localhost:8080/",
          "height": 763
        },
        "id": "OlF3yiH04o5W",
        "outputId": "a0373716-dbda-4dcd-d586-303c09885efd"
      },
      "execution_count": 22,
      "outputs": [
        {
          "output_type": "stream",
          "name": "stdout",
          "text": [
            "**Conceitos Fundamentais**\n",
            "\n",
            "* Definição de Inteligência Artificial (IA)\n",
            "* Tipos de IA (por exemplo, IA estreita, IA geral, superinteligência)\n",
            "* Aprendizado de Máquina (ML) vs. Aprendizado Profundo (DL)\n",
            "* Redes Neurais (NNs) e seus tipos (por exemplo, CNNs, RNNs)\n",
            "\n",
            "**Técnicas de IA**\n",
            "\n",
            "* Aprendizado Supervisionado (por exemplo, regressão, classificação)\n",
            "* Aprendizado Não Supervisionado (por exemplo, agrupamento, redução de dimensionalidade)\n",
            "* Aprendizado por Reforço (RL)\n",
            "* Processamento de Linguagem Natural (PNL)\n",
            "* Visão Computacional\n",
            "\n",
            "**Aplicações da IA**\n",
            "\n",
            "* Automatização de tarefas\n",
            "* Análise de dados e previsão\n",
            "* Reconhecimento de padrões e detecção de anomalias\n",
            "* Assistência pessoal e chatbots\n",
            "* Veículos autônomos e robótica\n",
            "\n",
            "**Ética e Implicações da IA**\n",
            "\n",
            "* Viés e discriminação em algoritmos de IA\n",
            "* Privacidade e segurança de dados\n",
            "* Desemprego e desigualdade causados pela IA\n",
            "* Regulamentação e políticas éticas para IA\n",
            "\n",
            "**Tendências e Avanços da IA**\n",
            "\n",
            "* Modelos de linguagem grandes (LLMs)\n",
            "* Aprendizado federado\n",
            "* IA explicável (XAI)\n",
            "* IA quântica\n",
            "\n",
            "**Recursos para Aprendizagem**\n",
            "\n",
            "* Cursos online (por exemplo, Coursera, edX)\n",
            "* Livros e artigos de pesquisa\n",
            "* Conferências e workshops\n",
            "* Comunidades online e fóruns\n"
          ]
        }
      ]
    },
    {
      "cell_type": "code",
      "source": [
        "chat = model.start_chat(history=[])"
      ],
      "metadata": {
        "id": "EyPChSXU5-DN"
      },
      "execution_count": 28,
      "outputs": []
    },
    {
      "cell_type": "code",
      "source": [
        "prompt = input(\"Esperando prompt:\")\n",
        "\n",
        "while prompt != \"fim\":\n",
        "  response = chat.send_message(prompt)\n",
        "  print(\"Resposta: \", response.text, \"\\n\")\n",
        "  prompt = input(\"Esperando prompt:\")\n"
      ],
      "metadata": {
        "colab": {
          "base_uri": "https://localhost:8080/",
          "height": 86
        },
        "id": "NurR395x6NlH",
        "outputId": "5ff061cf-624c-4cef-a7af-6bc126aee8aa"
      },
      "execution_count": 32,
      "outputs": [
        {
          "name": "stdout",
          "output_type": "stream",
          "text": [
            "Esperando prompt:oi\n",
            "Resposta:  Olá! Como posso ajudá-lo hoje? \n",
            "\n",
            "Esperando prompt:fim\n"
          ]
        }
      ]
    },
    {
      "cell_type": "code",
      "source": [
        "chat"
      ],
      "metadata": {
        "colab": {
          "base_uri": "https://localhost:8080/"
        },
        "id": "Fh3GzfuC6sbs",
        "outputId": "32a9b644-ab48-4c79-b6f1-d66279cb0b77"
      },
      "execution_count": 33,
      "outputs": [
        {
          "output_type": "execute_result",
          "data": {
            "text/plain": [
              "ChatSession(\n",
              "    model=genai.GenerativeModel(\n",
              "        model_name='models/gemini-1.0-pro',\n",
              "        generation_config={'candidate_count': 1, 'temperature': 0.5},\n",
              "        safety_settings={<HarmCategory.HARM_CATEGORY_HARASSMENT: 7>: <HarmBlockThreshold.BLOCK_NONE: 4>, <HarmCategory.HARM_CATEGORY_HATE_SPEECH: 8>: <HarmBlockThreshold.BLOCK_NONE: 4>, <HarmCategory.HARM_CATEGORY_SEXUALLY_EXPLICIT: 9>: <HarmBlockThreshold.BLOCK_NONE: 4>, <HarmCategory.HARM_CATEGORY_DANGEROUS_CONTENT: 10>: <HarmBlockThreshold.BLOCK_NONE: 4>},\n",
              "        tools=None,\n",
              "        system_instruction=None,\n",
              "    ),\n",
              "    history=[glm.Content({'parts': [{'text': 'oi'}], 'role': 'user'}), glm.Content({'parts': [{'text': 'Olá! Como po...judá-lo hoje?'}], 'role': 'model'})]\n",
              ")"
            ]
          },
          "metadata": {},
          "execution_count": 33
        }
      ]
    },
    {
      "cell_type": "code",
      "source": [
        "#Melhorando a visualização\n",
        "#Código disponível em https://ai.google.dev/tutorials/python_quickstart#import_packages\n",
        "import textwrap\n",
        "from IPython.display import display\n",
        "from IPython.display import Markdown\n",
        "\n",
        "def to_markdown(text):\n",
        "  text = text.replace('•', '  *')\n",
        "  return Markdown(textwrap.indent(text, '> ', predicate=lambda _: True))\n",
        "\n",
        "#Imprimindo o histórico\n",
        "for message in chat.history:\n",
        "  display(to_markdown(f'**{message.role}**: {message.parts[0].text}'))\n",
        "  print('-------------------------------------------')"
      ],
      "metadata": {
        "colab": {
          "base_uri": "https://localhost:8080/",
          "height": 142
        },
        "id": "3WfnyXJN8RGP",
        "outputId": "d185e89e-506d-4be6-b1ae-e80e1220a03f"
      },
      "execution_count": 34,
      "outputs": [
        {
          "output_type": "display_data",
          "data": {
            "text/plain": [
              "<IPython.core.display.Markdown object>"
            ],
            "text/markdown": "> **user**: oi"
          },
          "metadata": {}
        },
        {
          "output_type": "stream",
          "name": "stdout",
          "text": [
            "-------------------------------------------\n"
          ]
        },
        {
          "output_type": "display_data",
          "data": {
            "text/plain": [
              "<IPython.core.display.Markdown object>"
            ],
            "text/markdown": "> **model**: Olá! Como posso ajudá-lo hoje?"
          },
          "metadata": {}
        },
        {
          "output_type": "stream",
          "name": "stdout",
          "text": [
            "-------------------------------------------\n"
          ]
        }
      ]
    },
    {
      "cell_type": "code",
      "source": [],
      "metadata": {
        "id": "d7j4qHFK_N3a"
      },
      "execution_count": null,
      "outputs": []
    }
  ]
}